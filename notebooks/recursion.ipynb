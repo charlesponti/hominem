{
 "cells": [
  {
   "cell_type": "code",
   "execution_count": 1,
   "metadata": {},
   "outputs": [],
   "source": [
    "def move(f, t):\n",
    "    print(\"Move disc from {} to {}!\".format(f, t))"
   ]
  },
  {
   "cell_type": "code",
   "execution_count": 2,
   "metadata": {},
   "outputs": [
    {
     "name": "stdout",
     "output_type": "stream",
     "text": [
      "Move disc from A to C!\n"
     ]
    }
   ],
   "source": [
    "move(\"A\", \"C\")"
   ]
  },
  {
   "cell_type": "code",
   "execution_count": 3,
   "metadata": {},
   "outputs": [],
   "source": [
    "def moveVia(f, v, t):\n",
    "    move(f, v)\n",
    "    move(v, t)"
   ]
  },
  {
   "cell_type": "code",
   "execution_count": 4,
   "metadata": {},
   "outputs": [
    {
     "name": "stdout",
     "output_type": "stream",
     "text": [
      "Move disc from f to v!\n",
      "Move disc from v to t!\n"
     ]
    }
   ],
   "source": [
    "moveVia(\"f\", \"v\", \"t\")"
   ]
  },
  {
   "cell_type": "code",
   "execution_count": 5,
   "metadata": {},
   "outputs": [
    {
     "name": "stdout",
     "output_type": "stream",
     "text": [
      "Move disc from A to B!\n",
      "Move disc from B to C!\n"
     ]
    }
   ],
   "source": [
    "moveVia(\"A\", \"B\", \"C\")"
   ]
  },
  {
   "cell_type": "code",
   "execution_count": 46,
   "metadata": {},
   "outputs": [
    {
     "name": "stdout",
     "output_type": "stream",
     "text": [
      "[1, 2, 3, 4, 5] [] []\n",
      "[2, 3, 4, 5] [1] []\n",
      "[3, 4, 5] [2, 1] []\n",
      "[4, 5] [3, 2, 1] []\n",
      "[5] [4, 3, 2, 1] []\n",
      "5\n",
      "[] [4, 3, 2, 1] [5]\n",
      "4\n",
      "[] [3, 2, 1] [4, 5]\n",
      "3\n",
      "[] [2, 1] [3, 4, 5]\n",
      "2\n",
      "[] [1] [2, 3, 4, 5]\n",
      "1\n",
      "[] [] [1, 2, 3, 4, 5]\n",
      "[] [] [2, 3, 4, 5]\n",
      "[] [] [3, 4, 5]\n",
      "[] [] [4, 5]\n",
      "[] [] [5]\n",
      "[] [] []\n",
      "[] [3, 2, 1] []\n",
      "[] [2, 1] []\n",
      "[] [1] []\n",
      "[] [] []\n"
     ]
    }
   ],
   "source": [
    "\n",
    "\n",
    "def moveVia(starting_stack, stack, target_stack):\n",
    "    \"\"\"\n",
    "        Towers of Hannoi\n",
    "    \"\"\"\n",
    "    print(starting_stack, stack, target_stack)\n",
    "    \n",
    "    # if the starting stack is empty, use the intermediary stack\n",
    "    if len(starting_stack) > 0:\n",
    "        current = starting_stack.pop(0) \n",
    "    elif len(stack) > 0:\n",
    "        current = stack.pop(0)\n",
    "\n",
    "    # If the current piece is smaller than the next piece, \n",
    "    # we want to put it in the intermediary stack\n",
    "    is_smaller = len(starting_stack) and current < starting_stack[0]\n",
    "\n",
    "    # This is the first movement of the game\n",
    "    if (len(stack) + len(target_stack) == 0) or is_smaller:\n",
    "        stack = [current] + stack\n",
    "        moveVia(starting_stack, stack, target_stack)\n",
    "    elif current:\n",
    "        print(current)\n",
    "        target_stack = [current] + target_stack\n",
    "        # If there are still \n",
    "        if len(stack) > 0 or len(starting_stack) > 0:\n",
    "            moveVia(starting_stack, stack, target_stack)\n",
    "\n",
    "    print(starting_stack, stack, target_stack)\n",
    "\n",
    "starting_stack = [1, 2, 3, 4, 5]\n",
    "stack = []\n",
    "target_stack = []\n",
    "moveVia(starting_stack, stack, target_stack)\n",
    "print(starting_stack, stack, target_stack)"
   ]
  },
  {
   "cell_type": "code",
   "execution_count": 33,
   "metadata": {},
   "outputs": [
    {
     "name": "stdout",
     "output_type": "stream",
     "text": [
      "[5, 1, 2, 3]\n"
     ]
    }
   ],
   "source": [
    "listA = [5] + [1,2,3]\n",
    "print(listA)"
   ]
  },
  {
   "cell_type": "code",
   "execution_count": 47,
   "metadata": {},
   "outputs": [
    {
     "name": "stdout",
     "output_type": "stream",
     "text": [
      "CPU times: user 24 µs, sys: 9 µs, total: 33 µs\n",
      "Wall time: 44.8 µs\n",
      "133\n"
     ]
    }
   ],
   "source": [
    "calls = 0\n",
    "\n",
    "def fib(n: int):\n",
    "    global calls\n",
    "    calls += 1\n",
    "    if n <= 0:\n",
    "        return 0\n",
    "    elif n == 1:\n",
    "        return 1\n",
    "    else:\n",
    "        calls += 2\n",
    "        return fib(n-1) + fib(n-2)\n",
    "\n",
    "%time fib(8)\n",
    "print(calls)"
   ]
  },
  {
   "cell_type": "code",
   "execution_count": 48,
   "metadata": {},
   "outputs": [
    {
     "name": "stdout",
     "output_type": "stream",
     "text": [
      "CPU times: user 22 µs, sys: 19 µs, total: 41 µs\n",
      "Wall time: 45.1 µs\n",
      "11\n"
     ]
    }
   ],
   "source": [
    "calls = 0\n",
    "\n",
    "def fib(n: int, memo={}):\n",
    "    global calls\n",
    "\n",
    "    if n <= 0:\n",
    "        return 0\n",
    "    elif n == 1:\n",
    "        return 1\n",
    "    else:\n",
    "        if n-1 not in memo:\n",
    "            calls += 1\n",
    "            memo[n-1] = fib(n-1, memo)\n",
    "        \n",
    "        if n-2 not in memo:\n",
    "            calls += 1\n",
    "            memo[n-2] = fib(n-2, memo)\n",
    "\n",
    "        return memo[n-1] + memo[n-2]\n",
    "\n",
    "%time fib(11, {})\n",
    "print(calls)"
   ]
  },
  {
   "cell_type": "code",
   "execution_count": null,
   "metadata": {},
   "outputs": [],
   "source": []
  }
 ],
 "metadata": {
  "kernelspec": {
   "display_name": "Python 3",
   "language": "python",
   "name": "python3"
  },
  "language_info": {
   "codemirror_mode": {
    "name": "ipython",
    "version": 3
   },
   "file_extension": ".py",
   "mimetype": "text/x-python",
   "name": "python",
   "nbconvert_exporter": "python",
   "pygments_lexer": "ipython3",
   "version": "3.6.9"
  }
 },
 "nbformat": 4,
 "nbformat_minor": 2
}
